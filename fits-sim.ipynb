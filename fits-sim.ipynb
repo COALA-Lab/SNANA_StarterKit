{
 "cells": [
  {
   "cell_type": "markdown",
   "metadata": {},
   "source": [
    "## Working with simulations in FITS format"
   ]
  },
  {
   "cell_type": "code",
   "execution_count": null,
   "metadata": {
    "scrolled": true
   },
   "outputs": [],
   "source": [
    "from sim_serializer import serialize\n",
    "%matplotlib inline\n",
    "import matplotlib.pyplot as plt"
   ]
  },
  {
   "cell_type": "code",
   "execution_count": null,
   "metadata": {},
   "outputs": [],
   "source": [
    "datadict = serialize.main('PS1MD')\n",
    "list(datadict.keys())[0:20]"
   ]
  },
  {
   "cell_type": "code",
   "execution_count": null,
   "metadata": {},
   "outputs": [],
   "source": [
    "for key in datadict[653].keys():\n",
    "    if key == 'header': continue\n",
    "    plt.errorbar(datadict[501][key]['mjd'],\n",
    "                datadict[501][key]['fluxcal'],\n",
    "                yerr=datadict[501][key]['fluxcalerr'],\n",
    "                fmt='o',label=key)\n",
    "plt.ylabel('flux')\n",
    "plt.xlabel('mjd')"
   ]
  }
 ],
 "metadata": {
  "kernelspec": {
   "display_name": "Python 3",
   "language": "python",
   "name": "python3"
  },
  "language_info": {
   "codemirror_mode": {
    "name": "ipython",
    "version": 3
   },
   "file_extension": ".py",
   "mimetype": "text/x-python",
   "name": "python",
   "nbconvert_exporter": "python",
   "pygments_lexer": "ipython3",
   "version": "3.7.3"
  }
 },
 "nbformat": 4,
 "nbformat_minor": 2
}
